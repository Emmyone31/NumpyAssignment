{
 "cells": [
  {
   "cell_type": "markdown",
   "id": "700ce201",
   "metadata": {},
   "source": [
    "# Assignment 1\n",
    "1. Generate an np array of (a) vector of lenght 50 (b) two dimension of shape 5x4. Both uniformly distributed between 0 and 1\n",
    "2. Split the two dimension array in 1 above into three arrays taking the first two rows, follow by the next two rows and put the remaining row in another variable\n",
    "3. Split the vector in 1 above into three arrays by taking the first 15, follow by the next 20 and the remaining into another variable.\n",
    "4. Create a 4x5 array: \n",
    "   (a). Using manual method\n",
    "   (b). Using randomly generated value between 0 and 1\n",
    "   (c). Using array of ones"
   ]
  },
  {
   "cell_type": "code",
   "execution_count": 1,
   "id": "05ef5053",
   "metadata": {},
   "outputs": [],
   "source": [
    "import numpy as np"
   ]
  },
  {
   "cell_type": "code",
   "execution_count": 2,
   "id": "51a68534",
   "metadata": {},
   "outputs": [
    {
     "data": {
      "text/plain": [
       "array([0.56273527, 0.97818327, 0.45103581, 0.87718523, 0.81799049,\n",
       "       0.95606464, 0.63440703, 0.38803538, 0.05375667, 0.42150506,\n",
       "       0.36838274, 0.72951483, 0.18039543, 0.78618543, 0.66790426,\n",
       "       0.70038818, 0.47581936, 0.27068056, 0.66216616, 0.47653206,\n",
       "       0.39476617, 0.15540709, 0.40230206, 0.3048804 , 0.52878032,\n",
       "       0.23592673, 0.29428995, 0.12707268, 0.71226771, 0.85835079,\n",
       "       0.3341543 , 0.3406857 , 0.16996743, 0.2515687 , 0.87650235,\n",
       "       0.49290587, 0.11351763, 0.07176565, 0.12928988, 0.00238884,\n",
       "       0.63043606, 0.46712565, 0.59147043, 0.90691169, 0.71779248,\n",
       "       0.95816372, 0.95083136, 0.0059158 , 0.02074642, 0.99898613])"
      ]
     },
     "execution_count": 2,
     "metadata": {},
     "output_type": "execute_result"
    }
   ],
   "source": [
    "xx=np.random.random(50)\n",
    "xx"
   ]
  },
  {
   "cell_type": "code",
   "execution_count": 3,
   "id": "a33cc7e7",
   "metadata": {},
   "outputs": [
    {
     "data": {
      "text/plain": [
       "array([[0.5488135 , 0.71518937, 0.60276338, 0.54488318],\n",
       "       [0.4236548 , 0.64589411, 0.43758721, 0.891773  ],\n",
       "       [0.96366276, 0.38344152, 0.79172504, 0.52889492],\n",
       "       [0.56804456, 0.92559664, 0.07103606, 0.0871293 ],\n",
       "       [0.0202184 , 0.83261985, 0.77815675, 0.87001215]])"
      ]
     },
     "execution_count": 3,
     "metadata": {},
     "output_type": "execute_result"
    }
   ],
   "source": [
    "np.random.seed(0)\n",
    "xy=np.random.random((5,4))\n",
    "xy"
   ]
  },
  {
   "cell_type": "code",
   "execution_count": 4,
   "id": "b6b9123e",
   "metadata": {},
   "outputs": [
    {
     "name": "stdout",
     "output_type": "stream",
     "text": [
      "the first split\n",
      " [[0.5488135  0.71518937 0.60276338 0.54488318]\n",
      " [0.4236548  0.64589411 0.43758721 0.891773  ]]\n",
      "the second split\n",
      " [[0.96366276 0.38344152 0.79172504 0.52889492]\n",
      " [0.56804456 0.92559664 0.07103606 0.0871293 ]]\n",
      "the third split\n",
      " [[0.0202184  0.83261985 0.77815675 0.87001215]]\n"
     ]
    }
   ],
   "source": [
    "first, second, third = np.vsplit(xy,[2,4])\n",
    "print(\"the first split\\n\",first)\n",
    "print(\"the second split\\n\",second)\n",
    "print(\"the third split\\n\",third)"
   ]
  },
  {
   "cell_type": "code",
   "execution_count": 5,
   "id": "70716353",
   "metadata": {},
   "outputs": [
    {
     "name": "stdout",
     "output_type": "stream",
     "text": [
      "[0.56273527 0.97818327 0.45103581 0.87718523 0.81799049 0.95606464\n",
      " 0.63440703 0.38803538 0.05375667 0.42150506 0.36838274 0.72951483\n",
      " 0.18039543 0.78618543 0.66790426] [0.70038818 0.47581936 0.27068056 0.66216616 0.47653206 0.39476617\n",
      " 0.15540709 0.40230206 0.3048804  0.52878032 0.23592673 0.29428995\n",
      " 0.12707268 0.71226771 0.85835079 0.3341543  0.3406857  0.16996743\n",
      " 0.2515687  0.87650235] [0.49290587 0.11351763 0.07176565 0.12928988 0.00238884 0.63043606\n",
      " 0.46712565 0.59147043 0.90691169 0.71779248 0.95816372 0.95083136\n",
      " 0.0059158  0.02074642 0.99898613]\n"
     ]
    }
   ],
   "source": [
    "x1, x2, x3 = np.split(xx, (15,35))\n",
    "print(x1,x2,x3)"
   ]
  },
  {
   "cell_type": "code",
   "execution_count": 6,
   "id": "7c662a1a",
   "metadata": {},
   "outputs": [
    {
     "data": {
      "text/plain": [
       "array([[ 1,  2,  3,  4,  5],\n",
       "       [ 6,  7,  8,  9, 10],\n",
       "       [11, 12, 13, 14, 15],\n",
       "       [16, 17, 18, 19, 20]])"
      ]
     },
     "execution_count": 6,
     "metadata": {},
     "output_type": "execute_result"
    }
   ],
   "source": [
    "np.array([[1,2,3,4,5],[6,7,8,9,10],[11,12,13,14,15],[16,17,18,19,20]])"
   ]
  },
  {
   "cell_type": "code",
   "execution_count": 7,
   "id": "6f56275e",
   "metadata": {},
   "outputs": [
    {
     "data": {
      "text/plain": [
       "array([[0.97861834, 0.79915856, 0.46147936, 0.78052918, 0.11827443],\n",
       "       [0.63992102, 0.14335329, 0.94466892, 0.52184832, 0.41466194],\n",
       "       [0.26455561, 0.77423369, 0.45615033, 0.56843395, 0.0187898 ],\n",
       "       [0.6176355 , 0.61209572, 0.616934  , 0.94374808, 0.6818203 ]])"
      ]
     },
     "execution_count": 7,
     "metadata": {},
     "output_type": "execute_result"
    }
   ],
   "source": [
    "np.random.random((4,5))"
   ]
  },
  {
   "cell_type": "code",
   "execution_count": 8,
   "id": "6e0dd1f8",
   "metadata": {},
   "outputs": [
    {
     "data": {
      "text/plain": [
       "array([[1., 1., 1., 1., 1.],\n",
       "       [1., 1., 1., 1., 1.],\n",
       "       [1., 1., 1., 1., 1.],\n",
       "       [1., 1., 1., 1., 1.]])"
      ]
     },
     "execution_count": 8,
     "metadata": {},
     "output_type": "execute_result"
    }
   ],
   "source": [
    "np.ones((4,5))"
   ]
  },
  {
   "cell_type": "markdown",
   "id": "a710bc6e",
   "metadata": {},
   "source": [
    "# Assignment 2:\n",
    "    #use us_births data to compute the following using np:\n",
    "        #extract the year, gender and births column from the data\n",
    "        #compute the aggregation of sum of total birth, sum of female birth and sum of male birth, mean and std\n",
    "        #compute the maximum births and minimum births\n",
    "        #indicate the gender with minimum birth and maximum birth\n",
    "        #indicate the year with minimum birth and maximum birth"
   ]
  },
  {
   "cell_type": "code",
   "execution_count": 1,
   "id": "c55e48e5",
   "metadata": {},
   "outputs": [],
   "source": [
    "import numpy as np\n",
    "import pandas as pd"
   ]
  },
  {
   "cell_type": "code",
   "execution_count": 10,
   "id": "60d47396",
   "metadata": {},
   "outputs": [
    {
     "data": {
      "text/html": [
       "<div>\n",
       "<style scoped>\n",
       "    .dataframe tbody tr th:only-of-type {\n",
       "        vertical-align: middle;\n",
       "    }\n",
       "\n",
       "    .dataframe tbody tr th {\n",
       "        vertical-align: top;\n",
       "    }\n",
       "\n",
       "    .dataframe thead th {\n",
       "        text-align: right;\n",
       "    }\n",
       "</style>\n",
       "<table border=\"1\" class=\"dataframe\">\n",
       "  <thead>\n",
       "    <tr style=\"text-align: right;\">\n",
       "      <th></th>\n",
       "      <th>year</th>\n",
       "      <th>month</th>\n",
       "      <th>day</th>\n",
       "      <th>gender</th>\n",
       "      <th>births</th>\n",
       "    </tr>\n",
       "  </thead>\n",
       "  <tbody>\n",
       "    <tr>\n",
       "      <th>0</th>\n",
       "      <td>1969</td>\n",
       "      <td>1</td>\n",
       "      <td>1.0</td>\n",
       "      <td>F</td>\n",
       "      <td>4046</td>\n",
       "    </tr>\n",
       "    <tr>\n",
       "      <th>1</th>\n",
       "      <td>1969</td>\n",
       "      <td>1</td>\n",
       "      <td>1.0</td>\n",
       "      <td>M</td>\n",
       "      <td>4440</td>\n",
       "    </tr>\n",
       "    <tr>\n",
       "      <th>2</th>\n",
       "      <td>1969</td>\n",
       "      <td>1</td>\n",
       "      <td>2.0</td>\n",
       "      <td>F</td>\n",
       "      <td>4454</td>\n",
       "    </tr>\n",
       "    <tr>\n",
       "      <th>3</th>\n",
       "      <td>1969</td>\n",
       "      <td>1</td>\n",
       "      <td>2.0</td>\n",
       "      <td>M</td>\n",
       "      <td>4548</td>\n",
       "    </tr>\n",
       "    <tr>\n",
       "      <th>4</th>\n",
       "      <td>1969</td>\n",
       "      <td>1</td>\n",
       "      <td>3.0</td>\n",
       "      <td>F</td>\n",
       "      <td>4548</td>\n",
       "    </tr>\n",
       "  </tbody>\n",
       "</table>\n",
       "</div>"
      ],
      "text/plain": [
       "   year  month  day gender  births\n",
       "0  1969      1  1.0      F    4046\n",
       "1  1969      1  1.0      M    4440\n",
       "2  1969      1  2.0      F    4454\n",
       "3  1969      1  2.0      M    4548\n",
       "4  1969      1  3.0      F    4548"
      ]
     },
     "execution_count": 10,
     "metadata": {},
     "output_type": "execute_result"
    }
   ],
   "source": [
    "df = pd.read_csv('C:\\\\PythonClass\\\\Data Science\\\\Datasets\\\\us_births.csv')\n",
    "df.head()"
   ]
  },
  {
   "cell_type": "code",
   "execution_count": 11,
   "id": "77d4d046",
   "metadata": {},
   "outputs": [
    {
     "name": "stdout",
     "output_type": "stream",
     "text": [
      "year\n",
      " [1969 1969 1969 ... 2008 2008 2008] \n",
      "\n",
      "gender\n",
      " ['F' 'M' 'F' ... 'M' 'F' 'M'] \n",
      "\n",
      "birth\n",
      " [  4046   4440   4454 ... 165468 173215 181235]\n"
     ]
    }
   ],
   "source": [
    "#extract the year, gender and births column from the data\n",
    "year = np.array(df['year'])\n",
    "gender = df.gender.values\n",
    "birth = df['births'].values\n",
    "print(\"year\\n\",year,\"\\n\")\n",
    "print(\"gender\\n\",gender,\"\\n\")\n",
    "print(\"birth\\n\",birth)"
   ]
  },
  {
   "cell_type": "code",
   "execution_count": 12,
   "id": "d803ce76",
   "metadata": {},
   "outputs": [
    {
     "name": "stdout",
     "output_type": "stream",
     "text": [
      "total births:    151774378\n",
      "mean birth:    9762.293561458802\n",
      "Sum of female birth:    74035823\n",
      "Sum of male birth:    77738555\n",
      "standard deviaton of total births:    28551.547532287397\n",
      "Median of total births:    4814.0\n"
     ]
    }
   ],
   "source": [
    "#compute the aggregation of sum of total birth, sum of female birth and sum of male birth, \n",
    "# mean and standard deviation(std)\n",
    "print(\"total births:   \", birth.sum())\n",
    "print(\"mean birth:   \", birth.mean())\n",
    "print('Sum of female birth:   ', np.sum(birth[np.equal(gender, 'F')]))\n",
    "print('Sum of male birth:   ', np.sum(birth[np.equal(gender, 'M')]))\n",
    "print(\"standard deviaton of total births:   \", birth.std())\n",
    "print(\"Median of total births:   \", np.median(birth))"
   ]
  },
  {
   "cell_type": "code",
   "execution_count": 13,
   "id": "bd4119d4",
   "metadata": {},
   "outputs": [
    {
     "name": "stdout",
     "output_type": "stream",
     "text": [
      "max birth:    199622\n",
      "min birth:    1\n"
     ]
    }
   ],
   "source": [
    "#compute the maximum births and minimum births\n",
    "print('max birth:   ', birth.max())\n",
    "print('min birth:   ', birth.min())"
   ]
  },
  {
   "cell_type": "code",
   "execution_count": 14,
   "id": "2e0b8c18",
   "metadata": {},
   "outputs": [
    {
     "name": "stdout",
     "output_type": "stream",
     "text": [
      "Gender with max birth:    M\n",
      "Gender with min birth:    F\n"
     ]
    }
   ],
   "source": [
    "#indicate the gender with minimum birth and maximum birth\n",
    "print('Gender with max birth:   ', gender[np.argmax(birth)])\n",
    "print('Gender with min birth:   ', gender[np.argmin(birth)])"
   ]
  },
  {
   "cell_type": "code",
   "execution_count": 15,
   "id": "9021a087",
   "metadata": {},
   "outputs": [
    {
     "name": "stdout",
     "output_type": "stream",
     "text": [
      "Year with max birth:    2007\n",
      "Year with min birth:    1975\n"
     ]
    }
   ],
   "source": [
    "#indicate the year with minimum birth and maximum birth\n",
    "print('Year with max birth:   ', year[np.argmax(birth)])\n",
    "print('Year with min birth:   ', year[np.argmin(birth)])"
   ]
  },
  {
   "cell_type": "markdown",
   "id": "1aeb8e3d",
   "metadata": {},
   "source": [
    "# Assignment 3\n",
    "Using the BicycleWeather.csv dataset perform the following operations:\n",
    "    1. Extract the PRCP column from the pandas object.\n",
    "    2. Using boolean functions/operators separate numbers from NAN\n",
    "    3. Using boolean masking separate all zeros and non-zeros into different variables.\n",
    "    4. From the variable holding non-zeros, multiply every values in the array with 100 and divid by 250\n",
    "    5. Calculate the following:\n",
    "        a. Median precip on rainy days\n",
    "        b. Median precip on summer days \n",
    "        c. Maximum precip on summer days \n",
    "        d. Median precip on non-summer rainy days"
   ]
  },
  {
   "cell_type": "code",
   "execution_count": 2,
   "id": "6a10277f",
   "metadata": {},
   "outputs": [
    {
     "data": {
      "text/html": [
       "<div>\n",
       "<style scoped>\n",
       "    .dataframe tbody tr th:only-of-type {\n",
       "        vertical-align: middle;\n",
       "    }\n",
       "\n",
       "    .dataframe tbody tr th {\n",
       "        vertical-align: top;\n",
       "    }\n",
       "\n",
       "    .dataframe thead th {\n",
       "        text-align: right;\n",
       "    }\n",
       "</style>\n",
       "<table border=\"1\" class=\"dataframe\">\n",
       "  <thead>\n",
       "    <tr style=\"text-align: right;\">\n",
       "      <th></th>\n",
       "      <th>STATION</th>\n",
       "      <th>STATION_NAME</th>\n",
       "      <th>DATE</th>\n",
       "      <th>PRCP</th>\n",
       "      <th>SNWD</th>\n",
       "      <th>SNOW</th>\n",
       "      <th>TMAX</th>\n",
       "      <th>TMIN</th>\n",
       "      <th>AWND</th>\n",
       "      <th>WDF2</th>\n",
       "      <th>...</th>\n",
       "      <th>WT17</th>\n",
       "      <th>WT05</th>\n",
       "      <th>WT02</th>\n",
       "      <th>WT22</th>\n",
       "      <th>WT04</th>\n",
       "      <th>WT13</th>\n",
       "      <th>WT16</th>\n",
       "      <th>WT08</th>\n",
       "      <th>WT18</th>\n",
       "      <th>WT03</th>\n",
       "    </tr>\n",
       "  </thead>\n",
       "  <tbody>\n",
       "    <tr>\n",
       "      <th>0</th>\n",
       "      <td>GHCND:USW00024233</td>\n",
       "      <td>SEATTLE TACOMA INTERNATIONAL AIRPORT WA US</td>\n",
       "      <td>20120101</td>\n",
       "      <td>0</td>\n",
       "      <td>0</td>\n",
       "      <td>0</td>\n",
       "      <td>128</td>\n",
       "      <td>50</td>\n",
       "      <td>47</td>\n",
       "      <td>100</td>\n",
       "      <td>...</td>\n",
       "      <td>-9999</td>\n",
       "      <td>-9999</td>\n",
       "      <td>-9999</td>\n",
       "      <td>-9999</td>\n",
       "      <td>-9999</td>\n",
       "      <td>-9999</td>\n",
       "      <td>-9999</td>\n",
       "      <td>-9999</td>\n",
       "      <td>-9999</td>\n",
       "      <td>-9999</td>\n",
       "    </tr>\n",
       "    <tr>\n",
       "      <th>1</th>\n",
       "      <td>GHCND:USW00024233</td>\n",
       "      <td>SEATTLE TACOMA INTERNATIONAL AIRPORT WA US</td>\n",
       "      <td>20120102</td>\n",
       "      <td>109</td>\n",
       "      <td>0</td>\n",
       "      <td>0</td>\n",
       "      <td>106</td>\n",
       "      <td>28</td>\n",
       "      <td>45</td>\n",
       "      <td>180</td>\n",
       "      <td>...</td>\n",
       "      <td>-9999</td>\n",
       "      <td>-9999</td>\n",
       "      <td>-9999</td>\n",
       "      <td>-9999</td>\n",
       "      <td>-9999</td>\n",
       "      <td>1</td>\n",
       "      <td>1</td>\n",
       "      <td>-9999</td>\n",
       "      <td>-9999</td>\n",
       "      <td>-9999</td>\n",
       "    </tr>\n",
       "    <tr>\n",
       "      <th>2</th>\n",
       "      <td>GHCND:USW00024233</td>\n",
       "      <td>SEATTLE TACOMA INTERNATIONAL AIRPORT WA US</td>\n",
       "      <td>20120103</td>\n",
       "      <td>8</td>\n",
       "      <td>0</td>\n",
       "      <td>0</td>\n",
       "      <td>117</td>\n",
       "      <td>72</td>\n",
       "      <td>23</td>\n",
       "      <td>180</td>\n",
       "      <td>...</td>\n",
       "      <td>-9999</td>\n",
       "      <td>-9999</td>\n",
       "      <td>-9999</td>\n",
       "      <td>-9999</td>\n",
       "      <td>-9999</td>\n",
       "      <td>-9999</td>\n",
       "      <td>1</td>\n",
       "      <td>-9999</td>\n",
       "      <td>-9999</td>\n",
       "      <td>-9999</td>\n",
       "    </tr>\n",
       "    <tr>\n",
       "      <th>3</th>\n",
       "      <td>GHCND:USW00024233</td>\n",
       "      <td>SEATTLE TACOMA INTERNATIONAL AIRPORT WA US</td>\n",
       "      <td>20120104</td>\n",
       "      <td>203</td>\n",
       "      <td>0</td>\n",
       "      <td>0</td>\n",
       "      <td>122</td>\n",
       "      <td>56</td>\n",
       "      <td>47</td>\n",
       "      <td>180</td>\n",
       "      <td>...</td>\n",
       "      <td>-9999</td>\n",
       "      <td>-9999</td>\n",
       "      <td>-9999</td>\n",
       "      <td>-9999</td>\n",
       "      <td>-9999</td>\n",
       "      <td>1</td>\n",
       "      <td>1</td>\n",
       "      <td>-9999</td>\n",
       "      <td>-9999</td>\n",
       "      <td>-9999</td>\n",
       "    </tr>\n",
       "    <tr>\n",
       "      <th>4</th>\n",
       "      <td>GHCND:USW00024233</td>\n",
       "      <td>SEATTLE TACOMA INTERNATIONAL AIRPORT WA US</td>\n",
       "      <td>20120105</td>\n",
       "      <td>13</td>\n",
       "      <td>0</td>\n",
       "      <td>0</td>\n",
       "      <td>89</td>\n",
       "      <td>28</td>\n",
       "      <td>61</td>\n",
       "      <td>200</td>\n",
       "      <td>...</td>\n",
       "      <td>-9999</td>\n",
       "      <td>-9999</td>\n",
       "      <td>-9999</td>\n",
       "      <td>-9999</td>\n",
       "      <td>-9999</td>\n",
       "      <td>-9999</td>\n",
       "      <td>1</td>\n",
       "      <td>-9999</td>\n",
       "      <td>-9999</td>\n",
       "      <td>-9999</td>\n",
       "    </tr>\n",
       "    <tr>\n",
       "      <th>...</th>\n",
       "      <td>...</td>\n",
       "      <td>...</td>\n",
       "      <td>...</td>\n",
       "      <td>...</td>\n",
       "      <td>...</td>\n",
       "      <td>...</td>\n",
       "      <td>...</td>\n",
       "      <td>...</td>\n",
       "      <td>...</td>\n",
       "      <td>...</td>\n",
       "      <td>...</td>\n",
       "      <td>...</td>\n",
       "      <td>...</td>\n",
       "      <td>...</td>\n",
       "      <td>...</td>\n",
       "      <td>...</td>\n",
       "      <td>...</td>\n",
       "      <td>...</td>\n",
       "      <td>...</td>\n",
       "      <td>...</td>\n",
       "      <td>...</td>\n",
       "    </tr>\n",
       "    <tr>\n",
       "      <th>1335</th>\n",
       "      <td>GHCND:USW00024233</td>\n",
       "      <td>SEATTLE TACOMA INTERNATIONAL AIRPORT WA US</td>\n",
       "      <td>20150828</td>\n",
       "      <td>5</td>\n",
       "      <td>0</td>\n",
       "      <td>0</td>\n",
       "      <td>233</td>\n",
       "      <td>156</td>\n",
       "      <td>26</td>\n",
       "      <td>230</td>\n",
       "      <td>...</td>\n",
       "      <td>-9999</td>\n",
       "      <td>-9999</td>\n",
       "      <td>-9999</td>\n",
       "      <td>-9999</td>\n",
       "      <td>-9999</td>\n",
       "      <td>-9999</td>\n",
       "      <td>-9999</td>\n",
       "      <td>-9999</td>\n",
       "      <td>-9999</td>\n",
       "      <td>-9999</td>\n",
       "    </tr>\n",
       "    <tr>\n",
       "      <th>1336</th>\n",
       "      <td>GHCND:USW00024233</td>\n",
       "      <td>SEATTLE TACOMA INTERNATIONAL AIRPORT WA US</td>\n",
       "      <td>20150829</td>\n",
       "      <td>325</td>\n",
       "      <td>0</td>\n",
       "      <td>0</td>\n",
       "      <td>222</td>\n",
       "      <td>133</td>\n",
       "      <td>58</td>\n",
       "      <td>210</td>\n",
       "      <td>...</td>\n",
       "      <td>-9999</td>\n",
       "      <td>-9999</td>\n",
       "      <td>-9999</td>\n",
       "      <td>-9999</td>\n",
       "      <td>-9999</td>\n",
       "      <td>-9999</td>\n",
       "      <td>-9999</td>\n",
       "      <td>-9999</td>\n",
       "      <td>-9999</td>\n",
       "      <td>-9999</td>\n",
       "    </tr>\n",
       "    <tr>\n",
       "      <th>1337</th>\n",
       "      <td>GHCND:USW00024233</td>\n",
       "      <td>SEATTLE TACOMA INTERNATIONAL AIRPORT WA US</td>\n",
       "      <td>20150830</td>\n",
       "      <td>102</td>\n",
       "      <td>0</td>\n",
       "      <td>0</td>\n",
       "      <td>200</td>\n",
       "      <td>128</td>\n",
       "      <td>47</td>\n",
       "      <td>200</td>\n",
       "      <td>...</td>\n",
       "      <td>-9999</td>\n",
       "      <td>-9999</td>\n",
       "      <td>-9999</td>\n",
       "      <td>-9999</td>\n",
       "      <td>-9999</td>\n",
       "      <td>-9999</td>\n",
       "      <td>-9999</td>\n",
       "      <td>-9999</td>\n",
       "      <td>-9999</td>\n",
       "      <td>-9999</td>\n",
       "    </tr>\n",
       "    <tr>\n",
       "      <th>1338</th>\n",
       "      <td>GHCND:USW00024233</td>\n",
       "      <td>SEATTLE TACOMA INTERNATIONAL AIRPORT WA US</td>\n",
       "      <td>20150831</td>\n",
       "      <td>0</td>\n",
       "      <td>0</td>\n",
       "      <td>0</td>\n",
       "      <td>189</td>\n",
       "      <td>161</td>\n",
       "      <td>58</td>\n",
       "      <td>210</td>\n",
       "      <td>...</td>\n",
       "      <td>-9999</td>\n",
       "      <td>-9999</td>\n",
       "      <td>-9999</td>\n",
       "      <td>-9999</td>\n",
       "      <td>-9999</td>\n",
       "      <td>-9999</td>\n",
       "      <td>-9999</td>\n",
       "      <td>-9999</td>\n",
       "      <td>-9999</td>\n",
       "      <td>-9999</td>\n",
       "    </tr>\n",
       "    <tr>\n",
       "      <th>1339</th>\n",
       "      <td>GHCND:USW00024233</td>\n",
       "      <td>SEATTLE TACOMA INTERNATIONAL AIRPORT WA US</td>\n",
       "      <td>20150901</td>\n",
       "      <td>58</td>\n",
       "      <td>0</td>\n",
       "      <td>0</td>\n",
       "      <td>194</td>\n",
       "      <td>139</td>\n",
       "      <td>-9999</td>\n",
       "      <td>-9999</td>\n",
       "      <td>...</td>\n",
       "      <td>-9999</td>\n",
       "      <td>-9999</td>\n",
       "      <td>-9999</td>\n",
       "      <td>-9999</td>\n",
       "      <td>-9999</td>\n",
       "      <td>-9999</td>\n",
       "      <td>-9999</td>\n",
       "      <td>-9999</td>\n",
       "      <td>-9999</td>\n",
       "      <td>-9999</td>\n",
       "    </tr>\n",
       "  </tbody>\n",
       "</table>\n",
       "<p>1340 rows × 26 columns</p>\n",
       "</div>"
      ],
      "text/plain": [
       "                STATION                                STATION_NAME      DATE  \\\n",
       "0     GHCND:USW00024233  SEATTLE TACOMA INTERNATIONAL AIRPORT WA US  20120101   \n",
       "1     GHCND:USW00024233  SEATTLE TACOMA INTERNATIONAL AIRPORT WA US  20120102   \n",
       "2     GHCND:USW00024233  SEATTLE TACOMA INTERNATIONAL AIRPORT WA US  20120103   \n",
       "3     GHCND:USW00024233  SEATTLE TACOMA INTERNATIONAL AIRPORT WA US  20120104   \n",
       "4     GHCND:USW00024233  SEATTLE TACOMA INTERNATIONAL AIRPORT WA US  20120105   \n",
       "...                 ...                                         ...       ...   \n",
       "1335  GHCND:USW00024233  SEATTLE TACOMA INTERNATIONAL AIRPORT WA US  20150828   \n",
       "1336  GHCND:USW00024233  SEATTLE TACOMA INTERNATIONAL AIRPORT WA US  20150829   \n",
       "1337  GHCND:USW00024233  SEATTLE TACOMA INTERNATIONAL AIRPORT WA US  20150830   \n",
       "1338  GHCND:USW00024233  SEATTLE TACOMA INTERNATIONAL AIRPORT WA US  20150831   \n",
       "1339  GHCND:USW00024233  SEATTLE TACOMA INTERNATIONAL AIRPORT WA US  20150901   \n",
       "\n",
       "      PRCP  SNWD  SNOW  TMAX  TMIN  AWND  WDF2  ...  WT17  WT05  WT02  WT22  \\\n",
       "0        0     0     0   128    50    47   100  ... -9999 -9999 -9999 -9999   \n",
       "1      109     0     0   106    28    45   180  ... -9999 -9999 -9999 -9999   \n",
       "2        8     0     0   117    72    23   180  ... -9999 -9999 -9999 -9999   \n",
       "3      203     0     0   122    56    47   180  ... -9999 -9999 -9999 -9999   \n",
       "4       13     0     0    89    28    61   200  ... -9999 -9999 -9999 -9999   \n",
       "...    ...   ...   ...   ...   ...   ...   ...  ...   ...   ...   ...   ...   \n",
       "1335     5     0     0   233   156    26   230  ... -9999 -9999 -9999 -9999   \n",
       "1336   325     0     0   222   133    58   210  ... -9999 -9999 -9999 -9999   \n",
       "1337   102     0     0   200   128    47   200  ... -9999 -9999 -9999 -9999   \n",
       "1338     0     0     0   189   161    58   210  ... -9999 -9999 -9999 -9999   \n",
       "1339    58     0     0   194   139 -9999 -9999  ... -9999 -9999 -9999 -9999   \n",
       "\n",
       "      WT04  WT13  WT16  WT08  WT18  WT03  \n",
       "0    -9999 -9999 -9999 -9999 -9999 -9999  \n",
       "1    -9999     1     1 -9999 -9999 -9999  \n",
       "2    -9999 -9999     1 -9999 -9999 -9999  \n",
       "3    -9999     1     1 -9999 -9999 -9999  \n",
       "4    -9999 -9999     1 -9999 -9999 -9999  \n",
       "...    ...   ...   ...   ...   ...   ...  \n",
       "1335 -9999 -9999 -9999 -9999 -9999 -9999  \n",
       "1336 -9999 -9999 -9999 -9999 -9999 -9999  \n",
       "1337 -9999 -9999 -9999 -9999 -9999 -9999  \n",
       "1338 -9999 -9999 -9999 -9999 -9999 -9999  \n",
       "1339 -9999 -9999 -9999 -9999 -9999 -9999  \n",
       "\n",
       "[1340 rows x 26 columns]"
      ]
     },
     "execution_count": 2,
     "metadata": {},
     "output_type": "execute_result"
    }
   ],
   "source": [
    "bic = pd.read_csv('C:\\\\PythonClass\\\\Data Science\\\\Datasets\\\\BicycleWeather.csv')\n",
    "bic"
   ]
  },
  {
   "cell_type": "code",
   "execution_count": 17,
   "id": "a03cb903",
   "metadata": {},
   "outputs": [
    {
     "name": "stdout",
     "output_type": "stream",
     "text": [
      "[  0 109   8 ... 102   0  58]\n"
     ]
    }
   ],
   "source": [
    "#  Extract the PRCP column from the pandas object.\n",
    "prcp=bic['PRCP'].values\n",
    "print(prcp)"
   ]
  },
  {
   "cell_type": "code",
   "execution_count": 93,
   "id": "9960c46c",
   "metadata": {},
   "outputs": [
    {
     "data": {
      "text/plain": [
       "1340"
      ]
     },
     "execution_count": 93,
     "metadata": {},
     "output_type": "execute_result"
    }
   ],
   "source": [
    "# Using boolean functions/operators separate numbers from NAN\n",
    "# no nan values\n",
    "np.greater_equal(prcp, 0).size"
   ]
  },
  {
   "cell_type": "code",
   "execution_count": 70,
   "id": "173ce5d9",
   "metadata": {},
   "outputs": [
    {
     "name": "stdout",
     "output_type": "stream",
     "text": [
      "Zero values:   [0 0 0 0 0 0 0 0 0 0 0 0 0 0 0 0 0 0 0 0 0 0 0 0 0 0 0 0 0 0 0 0 0 0 0 0 0\n",
      " 0 0 0 0 0 0 0 0 0 0 0 0 0 0 0 0 0 0 0 0 0 0 0 0 0 0 0 0 0 0 0 0 0 0 0 0 0\n",
      " 0 0 0 0 0 0 0 0 0 0 0 0 0 0 0 0 0 0 0 0 0 0 0 0 0 0 0 0 0 0 0 0 0 0 0 0 0\n",
      " 0 0 0 0 0 0 0 0 0 0 0 0 0 0 0 0 0 0 0 0 0 0 0 0 0 0 0 0 0 0 0 0 0 0 0 0 0\n",
      " 0 0 0 0 0 0 0 0 0 0 0 0 0 0 0 0 0 0 0 0 0 0 0 0 0 0 0 0 0 0 0 0 0 0 0 0 0\n",
      " 0 0 0 0 0 0 0 0 0 0 0 0 0 0 0 0 0 0 0 0 0 0 0 0 0 0 0 0 0 0 0 0 0 0 0 0 0\n",
      " 0 0 0 0 0 0 0 0 0 0 0 0 0 0 0 0 0 0 0 0 0 0 0 0 0 0 0 0 0 0 0 0 0 0 0 0 0\n",
      " 0 0 0 0 0 0 0 0 0 0 0 0 0 0 0 0 0 0 0 0 0 0 0 0 0 0 0 0 0 0 0 0 0 0 0 0 0\n",
      " 0 0 0 0 0 0 0 0 0 0 0 0 0 0 0 0 0 0 0 0 0 0 0 0 0 0 0 0 0 0 0 0 0 0 0 0 0\n",
      " 0 0 0 0 0 0 0 0 0 0 0 0 0 0 0 0 0 0 0 0 0 0 0 0 0 0 0 0 0 0 0 0 0 0 0 0 0\n",
      " 0 0 0 0 0 0 0 0 0 0 0 0 0 0 0 0 0 0 0 0 0 0 0 0 0 0 0 0 0 0 0 0 0 0 0 0 0\n",
      " 0 0 0 0 0 0 0 0 0 0 0 0 0 0 0 0 0 0 0 0 0 0 0 0 0 0 0 0 0 0 0 0 0 0 0 0 0\n",
      " 0 0 0 0 0 0 0 0 0 0 0 0 0 0 0 0 0 0 0 0 0 0 0 0 0 0 0 0 0 0 0 0 0 0 0 0 0\n",
      " 0 0 0 0 0 0 0 0 0 0 0 0 0 0 0 0 0 0 0 0 0 0 0 0 0 0 0 0 0 0 0 0 0 0 0 0 0\n",
      " 0 0 0 0 0 0 0 0 0 0 0 0 0 0 0 0 0 0 0 0 0 0 0 0 0 0 0 0 0 0 0 0 0 0 0 0 0\n",
      " 0 0 0 0 0 0 0 0 0 0 0 0 0 0 0 0 0 0 0 0 0 0 0 0 0 0 0 0 0 0 0 0 0 0 0 0 0\n",
      " 0 0 0 0 0 0 0 0 0 0 0 0 0 0 0 0 0 0 0 0 0 0 0 0 0 0 0 0 0 0 0 0 0 0 0 0 0\n",
      " 0 0 0 0 0 0 0 0 0 0 0 0 0 0 0 0 0 0 0 0 0 0 0 0 0 0 0 0 0 0 0 0 0 0 0 0 0\n",
      " 0 0 0 0 0 0 0 0 0 0 0 0 0 0 0 0 0 0 0 0 0 0 0 0 0 0 0 0 0 0 0 0 0 0 0 0 0\n",
      " 0 0 0 0 0 0 0 0 0 0 0 0 0 0 0 0 0 0 0 0 0 0 0 0 0 0 0 0 0 0 0 0 0 0 0 0 0\n",
      " 0 0 0 0 0 0 0 0 0 0 0 0 0 0 0 0 0 0 0 0 0 0 0 0 0 0 0 0 0 0 0 0 0 0 0 0 0\n",
      " 0 0 0 0 0 0 0]\n",
      "None Zero values:   [109   8 203  13  25  43  10  41  53  25  81 198 152 135  30  61  86  81\n",
      "  48 277  36  18 135   3  28  25  25   8  10 114  25  18 173  64  30   8\n",
      "  86 114  13  36   8  20  69   5  36 104 137 193  94  86 239  84  94  36\n",
      "  20  36  13  41  48  13 274  56 132  15  15  46   3  23   5  81  18  18\n",
      " 109  66  43 107  38   8  43  43   5   5 185  18  64 140  61   3   3  38\n",
      "  66   3  13 160 165  15   8  30  10 157  86   5   3  30  20  58  15   5\n",
      "   3 152  10   3   3   3  20  48 165  79 208  48   5  64  89  71  15 231\n",
      "  61 109 345 145  97  56   5  81   8   3 152  36  53   8  56  61  79 541\n",
      "  38 112 320  28  15 356  41 196 130 142  15  15  10  15   5  30  81  23\n",
      "  79  53 226  20  33 137 132  18  33  66   3 135  46  41  15  41  25  30\n",
      "  20  23 163 384   3  51  58  30  23  18  79  43  36  30   3  23  33  10\n",
      "  13   3   3  10  23  10  15   5  94   3  23   5  46  81  41   8 119  74\n",
      "   8  13  20  23  28  43 117  99  81   3  20  84 185 127 391   8  94  15\n",
      "  97  94  58   3  53 206  33  10  38  66  33  10   5 137 137  41   3  15\n",
      "  97   5  56  10   3   3  30   3  79  48  99  20  36  20  23   8  18   3\n",
      "  10  13  56 193  23   3 277 213  33   3  36 135  28  20  10 434 168 185\n",
      "  79  53   8  41   5  69  10  91  10  18   5   3  13 127   5  25  38 300\n",
      "  18  41  13  30  53 262  10   5  23  30  46  69   5  13   3  13  56  56\n",
      " 107  15   3   3   5  41  15   3 122  97  58  43 213  15   5  89 216  23\n",
      "  20  51   5 183 170  46  18  94 117 264 145 152  10  30  28  25  61 130\n",
      "   3   5 191 107 165 467  30 323  43 188   5  69  81 277   3   5  41  36\n",
      "   3 221 140  25  46  46   5 109 185 137  51 142  89 124  33  69 333 160\n",
      "  51 137  20   5  38  56  18  64   5  36  13   8   3  18  23   3 193   5\n",
      "   5 127 216  10  84  13  30   5   3   3 183 203  43  89   8   3  74  76\n",
      "  71  86  33 150 117  10 320  94  41  61  15   8 127   5 254 170  18 109\n",
      "  41  48  41  51  36 152   5 119  13 183   3  33 343  36   8  30  74  91\n",
      "  99 130  69  28 130  30 196 206  53  33  41  15 102  81   3  58  15  97\n",
      " 262 213   5   8  58   5   8  15  74  13  84 262 173 236  36  61   3  10\n",
      "   3  46   8  41  94 183   8  25  20 170 559  10   8  41  38  10  81  76\n",
      "  51  10  18  10  51  15  10   5 109 140  33  56  30  33  13   3  18  61\n",
      "  43  41   3  46   5   5   3   3  20  76 305  20   5 325 102  58]\n"
     ]
    }
   ],
   "source": [
    "# Using boolean masking separate all zeros and non-zeros into different variables.\n",
    "zero_val = prcp[np.equal(prcp, 0)]\n",
    "non_zero = prcp[np.greater(prcp, 0)]\n",
    "print('Zero values:  ', zero_val)\n",
    "print('None Zero values:  ', non_zero)"
   ]
  },
  {
   "cell_type": "code",
   "execution_count": 72,
   "id": "aa86650d",
   "metadata": {},
   "outputs": [
    {
     "data": {
      "text/plain": [
       "array([ 43.6,   3.2,  81.2,   5.2,  10. ,  17.2,   4. ,  16.4,  21.2,\n",
       "        10. ,  32.4,  79.2,  60.8,  54. ,  12. ,  24.4,  34.4,  32.4,\n",
       "        19.2, 110.8,  14.4,   7.2,  54. ,   1.2,  11.2,  10. ,  10. ,\n",
       "         3.2,   4. ,  45.6,  10. ,   7.2,  69.2,  25.6,  12. ,   3.2,\n",
       "        34.4,  45.6,   5.2,  14.4,   3.2,   8. ,  27.6,   2. ,  14.4,\n",
       "        41.6,  54.8,  77.2,  37.6,  34.4,  95.6,  33.6,  37.6,  14.4,\n",
       "         8. ,  14.4,   5.2,  16.4,  19.2,   5.2, 109.6,  22.4,  52.8,\n",
       "         6. ,   6. ,  18.4,   1.2,   9.2,   2. ,  32.4,   7.2,   7.2,\n",
       "        43.6,  26.4,  17.2,  42.8,  15.2,   3.2,  17.2,  17.2,   2. ,\n",
       "         2. ,  74. ,   7.2,  25.6,  56. ,  24.4,   1.2,   1.2,  15.2,\n",
       "        26.4,   1.2,   5.2,  64. ,  66. ,   6. ,   3.2,  12. ,   4. ,\n",
       "        62.8,  34.4,   2. ,   1.2,  12. ,   8. ,  23.2,   6. ,   2. ,\n",
       "         1.2,  60.8,   4. ,   1.2,   1.2,   1.2,   8. ,  19.2,  66. ,\n",
       "        31.6,  83.2,  19.2,   2. ,  25.6,  35.6,  28.4,   6. ,  92.4,\n",
       "        24.4,  43.6, 138. ,  58. ,  38.8,  22.4,   2. ,  32.4,   3.2,\n",
       "         1.2,  60.8,  14.4,  21.2,   3.2,  22.4,  24.4,  31.6, 216.4,\n",
       "        15.2,  44.8, 128. ,  11.2,   6. , 142.4,  16.4,  78.4,  52. ,\n",
       "        56.8,   6. ,   6. ,   4. ,   6. ,   2. ,  12. ,  32.4,   9.2,\n",
       "        31.6,  21.2,  90.4,   8. ,  13.2,  54.8,  52.8,   7.2,  13.2,\n",
       "        26.4,   1.2,  54. ,  18.4,  16.4,   6. ,  16.4,  10. ,  12. ,\n",
       "         8. ,   9.2,  65.2, 153.6,   1.2,  20.4,  23.2,  12. ,   9.2,\n",
       "         7.2,  31.6,  17.2,  14.4,  12. ,   1.2,   9.2,  13.2,   4. ,\n",
       "         5.2,   1.2,   1.2,   4. ,   9.2,   4. ,   6. ,   2. ,  37.6,\n",
       "         1.2,   9.2,   2. ,  18.4,  32.4,  16.4,   3.2,  47.6,  29.6,\n",
       "         3.2,   5.2,   8. ,   9.2,  11.2,  17.2,  46.8,  39.6,  32.4,\n",
       "         1.2,   8. ,  33.6,  74. ,  50.8, 156.4,   3.2,  37.6,   6. ,\n",
       "        38.8,  37.6,  23.2,   1.2,  21.2,  82.4,  13.2,   4. ,  15.2,\n",
       "        26.4,  13.2,   4. ,   2. ,  54.8,  54.8,  16.4,   1.2,   6. ,\n",
       "        38.8,   2. ,  22.4,   4. ,   1.2,   1.2,  12. ,   1.2,  31.6,\n",
       "        19.2,  39.6,   8. ,  14.4,   8. ,   9.2,   3.2,   7.2,   1.2,\n",
       "         4. ,   5.2,  22.4,  77.2,   9.2,   1.2, 110.8,  85.2,  13.2,\n",
       "         1.2,  14.4,  54. ,  11.2,   8. ,   4. , 173.6,  67.2,  74. ,\n",
       "        31.6,  21.2,   3.2,  16.4,   2. ,  27.6,   4. ,  36.4,   4. ,\n",
       "         7.2,   2. ,   1.2,   5.2,  50.8,   2. ,  10. ,  15.2, 120. ,\n",
       "         7.2,  16.4,   5.2,  12. ,  21.2, 104.8,   4. ,   2. ,   9.2,\n",
       "        12. ,  18.4,  27.6,   2. ,   5.2,   1.2,   5.2,  22.4,  22.4,\n",
       "        42.8,   6. ,   1.2,   1.2,   2. ,  16.4,   6. ,   1.2,  48.8,\n",
       "        38.8,  23.2,  17.2,  85.2,   6. ,   2. ,  35.6,  86.4,   9.2,\n",
       "         8. ,  20.4,   2. ,  73.2,  68. ,  18.4,   7.2,  37.6,  46.8,\n",
       "       105.6,  58. ,  60.8,   4. ,  12. ,  11.2,  10. ,  24.4,  52. ,\n",
       "         1.2,   2. ,  76.4,  42.8,  66. , 186.8,  12. , 129.2,  17.2,\n",
       "        75.2,   2. ,  27.6,  32.4, 110.8,   1.2,   2. ,  16.4,  14.4,\n",
       "         1.2,  88.4,  56. ,  10. ,  18.4,  18.4,   2. ,  43.6,  74. ,\n",
       "        54.8,  20.4,  56.8,  35.6,  49.6,  13.2,  27.6, 133.2,  64. ,\n",
       "        20.4,  54.8,   8. ,   2. ,  15.2,  22.4,   7.2,  25.6,   2. ,\n",
       "        14.4,   5.2,   3.2,   1.2,   7.2,   9.2,   1.2,  77.2,   2. ,\n",
       "         2. ,  50.8,  86.4,   4. ,  33.6,   5.2,  12. ,   2. ,   1.2,\n",
       "         1.2,  73.2,  81.2,  17.2,  35.6,   3.2,   1.2,  29.6,  30.4,\n",
       "        28.4,  34.4,  13.2,  60. ,  46.8,   4. , 128. ,  37.6,  16.4,\n",
       "        24.4,   6. ,   3.2,  50.8,   2. , 101.6,  68. ,   7.2,  43.6,\n",
       "        16.4,  19.2,  16.4,  20.4,  14.4,  60.8,   2. ,  47.6,   5.2,\n",
       "        73.2,   1.2,  13.2, 137.2,  14.4,   3.2,  12. ,  29.6,  36.4,\n",
       "        39.6,  52. ,  27.6,  11.2,  52. ,  12. ,  78.4,  82.4,  21.2,\n",
       "        13.2,  16.4,   6. ,  40.8,  32.4,   1.2,  23.2,   6. ,  38.8,\n",
       "       104.8,  85.2,   2. ,   3.2,  23.2,   2. ,   3.2,   6. ,  29.6,\n",
       "         5.2,  33.6, 104.8,  69.2,  94.4,  14.4,  24.4,   1.2,   4. ,\n",
       "         1.2,  18.4,   3.2,  16.4,  37.6,  73.2,   3.2,  10. ,   8. ,\n",
       "        68. , 223.6,   4. ,   3.2,  16.4,  15.2,   4. ,  32.4,  30.4,\n",
       "        20.4,   4. ,   7.2,   4. ,  20.4,   6. ,   4. ,   2. ,  43.6,\n",
       "        56. ,  13.2,  22.4,  12. ,  13.2,   5.2,   1.2,   7.2,  24.4,\n",
       "        17.2,  16.4,   1.2,  18.4,   2. ,   2. ,   1.2,   1.2,   8. ,\n",
       "        30.4, 122. ,   8. ,   2. , 130. ,  40.8,  23.2])"
      ]
     },
     "execution_count": 72,
     "metadata": {},
     "output_type": "execute_result"
    }
   ],
   "source": [
    "#  From the variable holding non-zeros, multiply every values in the array with 100 and divid by 250\n",
    "(non_zero*100)/250"
   ]
  },
  {
   "cell_type": "code",
   "execution_count": 81,
   "id": "84b19732",
   "metadata": {
    "scrolled": true
   },
   "outputs": [
    {
     "data": {
      "text/plain": [
       "array([  3,  36, 135,  28,  20,  10, 434, 168, 185,  79,  53,   8,  41,\n",
       "         5,  69,  10,  91,  10,  18,   5,   3,  13, 127,   5,  25,  38,\n",
       "       300,  18,  41,  13,  30,  53, 262,  10,   5,  23,  30,  46,  69,\n",
       "         5,  13,   3,  13,  56,  56, 107,  15,   3,   3,   5,  41,  15,\n",
       "         3, 122,  97,  58,  43, 213,  15,   5,  89, 216,  23,  20,  51,\n",
       "         5, 183, 170,  46,  18,  94, 117, 264, 145, 152,  10,  30,  28,\n",
       "        25,  61, 130,   3,   5, 191, 107, 165, 467,  30, 323], dtype=int64)"
      ]
     },
     "execution_count": 81,
     "metadata": {},
     "output_type": "execute_result"
    }
   ],
   "source": [
    "# Generating summer days \n",
    "summer = (np.arange(556)-278<90) & (np.arange(556)-278>0)\n",
    "summer_prcp = non_zero[summer]\n",
    "summer_prcp"
   ]
  },
  {
   "cell_type": "code",
   "execution_count": 87,
   "id": "a7e6e8c6",
   "metadata": {},
   "outputs": [
    {
     "name": "stdout",
     "output_type": "stream",
     "text": [
      "Median precip on rainy days in 2012:  38.0\n",
      "Median precip on summer days in 2012:  36.0\n",
      "Max precip on rainy days in 2012:  467\n",
      "Median precip on non-summer rainy days:  38.0\n"
     ]
    }
   ],
   "source": [
    "# 5. Calculate the following: a. Median precip on rainy days b. Median precip on summer days \n",
    "# c. Maximum precip on summer days d. Median precip on non-summer rainy days\n",
    "print(\"Median precip on rainy days in 2012: \", np.median([non_zero]))\n",
    "print(\"Median precip on summer days in 2012: \", np.median([summer_prcp]))\n",
    "print(\"Max precip on rainy days in 2012: \", np.max([summer_prcp]))\n",
    "print(\"Median precip on non-summer rainy days: \", np.median(non_zero[~summer]))"
   ]
  }
 ],
 "metadata": {
  "kernelspec": {
   "display_name": "Python 3 (ipykernel)",
   "language": "python",
   "name": "python3"
  },
  "language_info": {
   "codemirror_mode": {
    "name": "ipython",
    "version": 3
   },
   "file_extension": ".py",
   "mimetype": "text/x-python",
   "name": "python",
   "nbconvert_exporter": "python",
   "pygments_lexer": "ipython3",
   "version": "3.9.15"
  }
 },
 "nbformat": 4,
 "nbformat_minor": 5
}
